{
 "cells": [
  {
   "cell_type": "code",
   "execution_count": 48,
   "id": "ac31104d-028b-476a-8f1d-1bae90c429cf",
   "metadata": {},
   "outputs": [],
   "source": [
    "# house prices prediction using TFDF"
   ]
  },
  {
   "cell_type": "markdown",
   "id": "5564dea0-df7a-4401-abae-033b7779a8fd",
   "metadata": {},
   "source": [
    "https://www.kaggle.com/code/gusthema/house-prices-prediction-using-tfdf/notebook"
   ]
  },
  {
   "cell_type": "code",
   "execution_count": 7,
   "id": "356d44e2-3b6b-4228-8f1e-85a1e1dd806d",
   "metadata": {},
   "outputs": [],
   "source": [
    "import numpy as np\n",
    "import pandas as pd\n",
    "\n",
    "import matplotlib.pyplot as plt\n",
    "import seaborn as sns\n",
    "\n",
    "import tensorflow as tf\n",
    "import tensorflow_decision_forests as tfdf"
   ]
  },
  {
   "cell_type": "code",
   "execution_count": 6,
   "id": "73b1c8f7-4a38-4f85-ab8d-87d95492a4b3",
   "metadata": {},
   "outputs": [
    {
     "name": "stdout",
     "output_type": "stream",
     "text": [
      "TensorFlow v:  2.14.0\n"
     ]
    }
   ],
   "source": [
    "print('TensorFlow v: ', tf.__version__)"
   ]
  },
  {
   "cell_type": "code",
   "execution_count": 8,
   "id": "3b5b124d-4a46-4258-8c10-65e8c58f9425",
   "metadata": {},
   "outputs": [
    {
     "name": "stdout",
     "output_type": "stream",
     "text": [
      "df.shape = (1460, 81)\n",
      "test_df.shape = (1459, 80)\n"
     ]
    }
   ],
   "source": [
    "df = pd.read_csv('./train.csv')\n",
    "test_df = pd.read_csv('./test.csv')\n",
    "\n",
    "print(f'df.shape = {df.shape}')\n",
    "print(f'test_df.shape = {test_df.shape}')"
   ]
  },
  {
   "cell_type": "code",
   "execution_count": 9,
   "id": "0d7d8634-8b8d-4191-9736-61502037f71e",
   "metadata": {},
   "outputs": [],
   "source": [
    "df.drop(columns = ['Id'], inplace  = True)"
   ]
  },
  {
   "cell_type": "code",
   "execution_count": 10,
   "id": "fa5384f4-bc2e-4255-a933-5d1569e6cd97",
   "metadata": {},
   "outputs": [
    {
     "name": "stdout",
     "output_type": "stream",
     "text": [
      "train_df.shape = (1028, 80)\n",
      "valid_df.shape = (432, 80)\n"
     ]
    }
   ],
   "source": [
    "# dataset을 랜덤하게 분리하여, train_set과 valid_set을 구분\n",
    "def split_dataset(dataset, test_ratio = 0.30):\n",
    "    test_indices = np.random.rand(len(dataset)) < test_ratio\n",
    "    \n",
    "    return dataset[~test_indices], dataset[test_indices]\n",
    "\n",
    "train_df, valid_df = split_dataset(df)\n",
    "print(f'train_df.shape = {train_df.shape}')\n",
    "print(f'valid_df.shape = {valid_df.shape}')"
   ]
  },
  {
   "cell_type": "code",
   "execution_count": 11,
   "id": "ca58ac4b-86c5-4645-8582-5323d1bcc810",
   "metadata": {},
   "outputs": [],
   "source": [
    "label = 'SalePrice'\n",
    "\n",
    "train_ds = tfdf.keras.pd_dataframe_to_tf_dataset(train_df,\n",
    "                                                 label = label,\n",
    "                                                 task = tfdf.keras.Task.REGRESSION)\n",
    "valid_ds = tfdf.keras.pd_dataframe_to_tf_dataset(valid_df,\n",
    "                                                 label = label,\n",
    "                                                 task = tfdf.keras.Task.REGRESSION)"
   ]
  },
  {
   "cell_type": "code",
   "execution_count": 16,
   "id": "373e4755-a2f9-4f83-9d03-46d6f60725bc",
   "metadata": {},
   "outputs": [
    {
     "data": {
      "text/plain": [
       "[tensorflow_decision_forests.keras.RandomForestModel,\n",
       " tensorflow_decision_forests.keras.GradientBoostedTreesModel,\n",
       " tensorflow_decision_forests.keras.CartModel,\n",
       " tensorflow_decision_forests.keras.DistributedGradientBoostedTreesModel]"
      ]
     },
     "execution_count": 16,
     "metadata": {},
     "output_type": "execute_result"
    }
   ],
   "source": [
    "tfdf.keras.get_all_models()\n",
    "\n",
    "# RandomForestModel | GradientBoostedTreesModel | CartModel | DistributedGradientBoostedTreesModel"
   ]
  },
  {
   "cell_type": "markdown",
   "id": "45f85478-f310-4bb3-9900-d6ea1b0ff622",
   "metadata": {},
   "source": [
    "### RandomForest"
   ]
  },
  {
   "cell_type": "code",
   "execution_count": 20,
   "id": "2b7fef32-4646-424c-860c-9917165223cf",
   "metadata": {},
   "outputs": [
    {
     "name": "stdout",
     "output_type": "stream",
     "text": [
      "Warning: The `num_threads` constructor argument is not set and the number of CPU is os.cpu_count()=48 > 32. Setting num_threads to 32. Set num_threads manually to use more than 32 cpus.\n"
     ]
    },
    {
     "name": "stderr",
     "output_type": "stream",
     "text": [
      "WARNING:absl:The `num_threads` constructor argument is not set and the number of CPU is os.cpu_count()=48 > 32. Setting num_threads to 32. Set num_threads manually to use more than 32 cpus.\n"
     ]
    },
    {
     "name": "stdout",
     "output_type": "stream",
     "text": [
      "Use /tmp/tmp95vzk_n3 as temporary training directory\n"
     ]
    }
   ],
   "source": [
    "rf = tfdf.keras.RandomForestModel(task = tfdf.keras.Task.REGRESSION)\n",
    "rf.compile(metrics = ['mse']) # 평가지표 = mean square error"
   ]
  },
  {
   "cell_type": "code",
   "execution_count": 22,
   "id": "17e537f0-07e0-42b7-bc7d-003408442ee0",
   "metadata": {},
   "outputs": [
    {
     "name": "stdout",
     "output_type": "stream",
     "text": [
      "Reading training dataset...\n",
      "Training dataset read in 0:00:06.476676. Found 1028 examples.\n",
      "Training model...\n"
     ]
    },
    {
     "name": "stderr",
     "output_type": "stream",
     "text": [
      "[INFO 23-11-03 08:13:34.2525 UTC kernel.cc:1233] Loading model from path /tmp/tmp95vzk_n3/model/ with prefix 26580eb95a7e4056\n"
     ]
    },
    {
     "name": "stdout",
     "output_type": "stream",
     "text": [
      "Model trained in 0:00:00.982321\n",
      "Compiling model...\n"
     ]
    },
    {
     "name": "stderr",
     "output_type": "stream",
     "text": [
      "[INFO 23-11-03 08:13:34.5628 UTC decision_forest.cc:660] Model loaded with 300 root(s), 97810 node(s), and 74 input feature(s).\n",
      "[INFO 23-11-03 08:13:34.5629 UTC abstract_model.cc:1343] Engine \"RandomForestOptPred\" built\n",
      "[INFO 23-11-03 08:13:34.5629 UTC kernel.cc:1061] Use fast generic engine\n"
     ]
    },
    {
     "name": "stdout",
     "output_type": "stream",
     "text": [
      "Model compiled.\n"
     ]
    },
    {
     "data": {
      "text/plain": [
       "<keras.src.callbacks.History at 0x7f6b5f6b39a0>"
      ]
     },
     "execution_count": 22,
     "metadata": {},
     "output_type": "execute_result"
    }
   ],
   "source": [
    "rf.fit(x = train_ds)"
   ]
  },
  {
   "cell_type": "code",
   "execution_count": 23,
   "id": "9ca377e6-e266-43df-b3ac-c0c638106b92",
   "metadata": {},
   "outputs": [
    {
     "data": {
      "text/html": [
       "\n",
       "<script src=\"https://d3js.org/d3.v6.min.js\"></script>\n",
       "<div id=\"tree_plot_ae009ca4eb7742fc91b89cb0749ce984\"></div>\n",
       "<script>\n",
       "/*\n",
       " * Copyright 2021 Google LLC.\n",
       " * Licensed under the Apache License, Version 2.0 (the \"License\");\n",
       " * you may not use this file except in compliance with the License.\n",
       " * You may obtain a copy of the License at\n",
       " *\n",
       " *     https://www.apache.org/licenses/LICENSE-2.0\n",
       " *\n",
       " * Unless required by applicable law or agreed to in writing, software\n",
       " * distributed under the License is distributed on an \"AS IS\" BASIS,\n",
       " * WITHOUT WARRANTIES OR CONDITIONS OF ANY KIND, either express or implied.\n",
       " * See the License for the specific language governing permissions and\n",
       " * limitations under the License.\n",
       " */\n",
       "\n",
       "/**\n",
       " *  Plotting of decision trees generated by TF-DF.\n",
       " *\n",
       " *  A tree is a recursive structure of node objects.\n",
       " *  A node contains one or more of the following components:\n",
       " *\n",
       " *    - A value: Representing the output of the node. If the node is not a leaf,\n",
       " *      the value is only present for analysis i.e. it is not used for\n",
       " *      predictions.\n",
       " *\n",
       " *    - A condition : For non-leaf nodes, the condition (also known as split)\n",
       " *      defines a binary test to branch to the positive or negative child.\n",
       " *\n",
       " *    - An explanation: Generally a plot showing the relation between the label\n",
       " *      and the condition to give insights about the effect of the condition.\n",
       " *\n",
       " *    - Two children : For non-leaf nodes, the children nodes. The first\n",
       " *      children (i.e. \"node.children[0]\") is the negative children (drawn in\n",
       " *      red). The second children is the positive one (drawn in green).\n",
       " *\n",
       " */\n",
       "\n",
       "/**\n",
       " * Plots a single decision tree into a DOM element.\n",
       " * @param {!options} options Dictionary of configurations.\n",
       " * @param {!tree} raw_tree Recursive tree structure.\n",
       " * @param {string} canvas_id Id of the output dom element.\n",
       " */\n",
       "function display_tree(options, raw_tree, canvas_id) {\n",
       "  console.log(options);\n",
       "\n",
       "  // Determine the node placement.\n",
       "  const tree_struct = d3.tree().nodeSize(\n",
       "      [options.node_y_offset, options.node_x_offset])(d3.hierarchy(raw_tree));\n",
       "\n",
       "  // Boundaries of the node placement.\n",
       "  let x_min = Infinity;\n",
       "  let x_max = -x_min;\n",
       "  let y_min = Infinity;\n",
       "  let y_max = -x_min;\n",
       "\n",
       "  tree_struct.each(d => {\n",
       "    if (d.x > x_max) x_max = d.x;\n",
       "    if (d.x < x_min) x_min = d.x;\n",
       "    if (d.y > y_max) y_max = d.y;\n",
       "    if (d.y < y_min) y_min = d.y;\n",
       "  });\n",
       "\n",
       "  // Size of the plot.\n",
       "  const width = y_max - y_min + options.node_x_size + options.margin * 2;\n",
       "  const height = x_max - x_min + options.node_y_size + options.margin * 2 +\n",
       "      options.node_y_offset - options.node_y_size;\n",
       "\n",
       "  const plot = d3.select(canvas_id);\n",
       "\n",
       "  // Tool tip\n",
       "  options.tooltip = plot.append('div')\n",
       "                        .attr('width', 100)\n",
       "                        .attr('height', 100)\n",
       "                        .style('padding', '4px')\n",
       "                        .style('background', '#fff')\n",
       "                        .style('box-shadow', '4px 4px 0px rgba(0,0,0,0.1)')\n",
       "                        .style('border', '1px solid black')\n",
       "                        .style('font-family', 'sans-serif')\n",
       "                        .style('font-size', options.font_size)\n",
       "                        .style('position', 'absolute')\n",
       "                        .style('z-index', '10')\n",
       "                        .attr('pointer-events', 'none')\n",
       "                        .style('display', 'none');\n",
       "\n",
       "  // Create canvas\n",
       "  const svg = plot.append('svg').attr('width', width).attr('height', height);\n",
       "  const graph =\n",
       "      svg.style('overflow', 'visible')\n",
       "          .append('g')\n",
       "          .attr('font-family', 'sans-serif')\n",
       "          .attr('font-size', options.font_size)\n",
       "          .attr(\n",
       "              'transform',\n",
       "              () => `translate(${options.margin},${\n",
       "                  - x_min + options.node_y_offset / 2 + options.margin})`);\n",
       "\n",
       "  // Plot bounding box.\n",
       "  if (options.show_plot_bounding_box) {\n",
       "    svg.append('rect')\n",
       "        .attr('width', width)\n",
       "        .attr('height', height)\n",
       "        .attr('fill', 'none')\n",
       "        .attr('stroke-width', 1.0)\n",
       "        .attr('stroke', 'black');\n",
       "  }\n",
       "\n",
       "  // Draw the edges.\n",
       "  display_edges(options, graph, tree_struct);\n",
       "\n",
       "  // Draw the nodes.\n",
       "  display_nodes(options, graph, tree_struct);\n",
       "}\n",
       "\n",
       "/**\n",
       " * Draw the nodes of the tree.\n",
       " * @param {!options} options Dictionary of configurations.\n",
       " * @param {!graph} graph D3 search handle containing the graph.\n",
       " * @param {!tree_struct} tree_struct Structure of the tree (node placement,\n",
       " *     data, etc.).\n",
       " */\n",
       "function display_nodes(options, graph, tree_struct) {\n",
       "  const nodes = graph.append('g')\n",
       "                    .selectAll('g')\n",
       "                    .data(tree_struct.descendants())\n",
       "                    .join('g')\n",
       "                    .attr('transform', d => `translate(${d.y},${d.x})`);\n",
       "\n",
       "  nodes.append('rect')\n",
       "      .attr('x', 0.5)\n",
       "      .attr('y', 0.5)\n",
       "      .attr('width', options.node_x_size)\n",
       "      .attr('height', options.node_y_size)\n",
       "      .attr('stroke', 'lightgrey')\n",
       "      .attr('stroke-width', 1)\n",
       "      .attr('fill', 'white')\n",
       "      .attr('y', -options.node_y_size / 2);\n",
       "\n",
       "  // Brackets on the right of condition nodes without children.\n",
       "  non_leaf_node_without_children =\n",
       "      nodes.filter(node => node.data.condition != null && node.children == null)\n",
       "          .append('g')\n",
       "          .attr('transform', `translate(${options.node_x_size},0)`);\n",
       "\n",
       "  non_leaf_node_without_children.append('path')\n",
       "      .attr('d', 'M0,0 C 10,0 0,10 10,10')\n",
       "      .attr('fill', 'none')\n",
       "      .attr('stroke-width', 1.0)\n",
       "      .attr('stroke', '#F00');\n",
       "\n",
       "  non_leaf_node_without_children.append('path')\n",
       "      .attr('d', 'M0,0 C 10,0 0,-10 10,-10')\n",
       "      .attr('fill', 'none')\n",
       "      .attr('stroke-width', 1.0)\n",
       "      .attr('stroke', '#0F0');\n",
       "\n",
       "  const node_content = nodes.append('g').attr(\n",
       "      'transform',\n",
       "      `translate(0,${options.node_padding - options.node_y_size / 2})`);\n",
       "\n",
       "  node_content.append(node => create_node_element(options, node));\n",
       "}\n",
       "\n",
       "/**\n",
       " * Creates the D3 content for a single node.\n",
       " * @param {!options} options Dictionary of configurations.\n",
       " * @param {!node} node Node to draw.\n",
       " * @return {!d3} D3 content.\n",
       " */\n",
       "function create_node_element(options, node) {\n",
       "  // Output accumulator.\n",
       "  let output = {\n",
       "    // Content to draw.\n",
       "    content: d3.create('svg:g'),\n",
       "    // Vertical offset to the next element to draw.\n",
       "    vertical_offset: 0\n",
       "  };\n",
       "\n",
       "  // Conditions.\n",
       "  if (node.data.condition != null) {\n",
       "    display_condition(options, node.data.condition, output);\n",
       "  }\n",
       "\n",
       "  // Values.\n",
       "  if (node.data.value != null) {\n",
       "    display_value(options, node.data.value, output);\n",
       "  }\n",
       "\n",
       "  // Explanations.\n",
       "  if (node.data.explanation != null) {\n",
       "    display_explanation(options, node.data.explanation, output);\n",
       "  }\n",
       "\n",
       "  return output.content.node();\n",
       "}\n",
       "\n",
       "\n",
       "/**\n",
       " * Adds a single line of text inside of a node.\n",
       " * @param {!options} options Dictionary of configurations.\n",
       " * @param {string} text Text to display.\n",
       " * @param {!output} output Output display accumulator.\n",
       " */\n",
       "function display_node_text(options, text, output) {\n",
       "  output.content.append('text')\n",
       "      .attr('x', options.node_padding)\n",
       "      .attr('y', output.vertical_offset)\n",
       "      .attr('alignment-baseline', 'hanging')\n",
       "      .text(text);\n",
       "  output.vertical_offset += 10;\n",
       "}\n",
       "\n",
       "/**\n",
       " * Adds a single line of text inside of a node with a tooltip.\n",
       " * @param {!options} options Dictionary of configurations.\n",
       " * @param {string} text Text to display.\n",
       " * @param {string} tooltip Text in the Tooltip.\n",
       " * @param {!output} output Output display accumulator.\n",
       " */\n",
       "function display_node_text_with_tooltip(options, text, tooltip, output) {\n",
       "  const item = output.content.append('text')\n",
       "                   .attr('x', options.node_padding)\n",
       "                   .attr('alignment-baseline', 'hanging')\n",
       "                   .text(text);\n",
       "\n",
       "  add_tooltip(options, item, () => tooltip);\n",
       "  output.vertical_offset += 10;\n",
       "}\n",
       "\n",
       "/**\n",
       " * Adds a tooltip to a dom element.\n",
       " * @param {!options} options Dictionary of configurations.\n",
       " * @param {!dom} target Dom element to equip with a tooltip.\n",
       " * @param {!func} get_content Generates the html content of the tooltip.\n",
       " */\n",
       "function add_tooltip(options, target, get_content) {\n",
       "  function show(d) {\n",
       "    options.tooltip.style('display', 'block');\n",
       "    options.tooltip.html(get_content());\n",
       "  }\n",
       "\n",
       "  function hide(d) {\n",
       "    options.tooltip.style('display', 'none');\n",
       "  }\n",
       "\n",
       "  function move(d) {\n",
       "    options.tooltip.style('display', 'block');\n",
       "    options.tooltip.style('left', (d.pageX + 5) + 'px');\n",
       "    options.tooltip.style('top', d.pageY + 'px');\n",
       "  }\n",
       "\n",
       "  target.on('mouseover', show);\n",
       "  target.on('mouseout', hide);\n",
       "  target.on('mousemove', move);\n",
       "}\n",
       "\n",
       "/**\n",
       " * Adds a condition inside of a node.\n",
       " * @param {!options} options Dictionary of configurations.\n",
       " * @param {!condition} condition Condition to display.\n",
       " * @param {!output} output Output display accumulator.\n",
       " */\n",
       "function display_condition(options, condition, output) {\n",
       "  threshold_format = d3.format('r');\n",
       "\n",
       "  if (condition.type === 'IS_MISSING') {\n",
       "    display_node_text(options, `${condition.attribute} is missing`, output);\n",
       "    return;\n",
       "  }\n",
       "\n",
       "  if (condition.type === 'IS_TRUE') {\n",
       "    display_node_text(options, `${condition.attribute} is true`, output);\n",
       "    return;\n",
       "  }\n",
       "\n",
       "  if (condition.type === 'NUMERICAL_IS_HIGHER_THAN') {\n",
       "    format = d3.format('r');\n",
       "    display_node_text(\n",
       "        options,\n",
       "        `${condition.attribute} >= ${threshold_format(condition.threshold)}`,\n",
       "        output);\n",
       "    return;\n",
       "  }\n",
       "\n",
       "  if (condition.type === 'CATEGORICAL_IS_IN') {\n",
       "    display_node_text_with_tooltip(\n",
       "        options, `${condition.attribute} in [...]`,\n",
       "        `${condition.attribute} in [${condition.mask}]`, output);\n",
       "    return;\n",
       "  }\n",
       "\n",
       "  if (condition.type === 'CATEGORICAL_SET_CONTAINS') {\n",
       "    display_node_text_with_tooltip(\n",
       "        options, `${condition.attribute} intersect [...]`,\n",
       "        `${condition.attribute} intersect [${condition.mask}]`, output);\n",
       "    return;\n",
       "  }\n",
       "\n",
       "  if (condition.type === 'NUMERICAL_SPARSE_OBLIQUE') {\n",
       "    display_node_text_with_tooltip(\n",
       "        options, `Sparse oblique split...`,\n",
       "        `[${condition.attributes}]*[${condition.weights}]>=${\n",
       "            threshold_format(condition.threshold)}`,\n",
       "        output);\n",
       "    return;\n",
       "  }\n",
       "\n",
       "  display_node_text(\n",
       "      options, `Non supported condition ${condition.type}`, output);\n",
       "}\n",
       "\n",
       "/**\n",
       " * Adds a value inside of a node.\n",
       " * @param {!options} options Dictionary of configurations.\n",
       " * @param {!value} value Value to display.\n",
       " * @param {!output} output Output display accumulator.\n",
       " */\n",
       "function display_value(options, value, output) {\n",
       "  if (value.type === 'PROBABILITY') {\n",
       "    const left_margin = 0;\n",
       "    const right_margin = 50;\n",
       "    const plot_width = options.node_x_size - options.node_padding * 2 -\n",
       "        left_margin - right_margin;\n",
       "\n",
       "    let cusum = Array.from(d3.cumsum(value.distribution));\n",
       "    cusum.unshift(0);\n",
       "    const distribution_plot = output.content.append('g').attr(\n",
       "        'transform', `translate(0,${output.vertical_offset + 0.5})`);\n",
       "\n",
       "    distribution_plot.selectAll('rect')\n",
       "        .data(value.distribution)\n",
       "        .join('rect')\n",
       "        .attr('height', 10)\n",
       "        .attr(\n",
       "            'x',\n",
       "            (d, i) =>\n",
       "                (cusum[i] * plot_width + left_margin + options.node_padding))\n",
       "        .attr('width', (d, i) => d * plot_width)\n",
       "        .style('fill', (d, i) => d3.schemeSet1[i]);\n",
       "\n",
       "    const num_examples =\n",
       "        output.content.append('g')\n",
       "            .attr('transform', `translate(0,${output.vertical_offset})`)\n",
       "            .append('text')\n",
       "            .attr('x', options.node_x_size - options.node_padding)\n",
       "            .attr('alignment-baseline', 'hanging')\n",
       "            .attr('text-anchor', 'end')\n",
       "            .text(`(${value.num_examples})`);\n",
       "\n",
       "    const distribution_details = d3.create('ul');\n",
       "    distribution_details.selectAll('li')\n",
       "        .data(value.distribution)\n",
       "        .join('li')\n",
       "        .append('span')\n",
       "        .text(\n",
       "            (d, i) =>\n",
       "                'class ' + i + ': ' + d3.format('.3%')(value.distribution[i]));\n",
       "\n",
       "    add_tooltip(options, distribution_plot, () => distribution_details.html());\n",
       "    add_tooltip(options, num_examples, () => 'Number of examples');\n",
       "\n",
       "    output.vertical_offset += 10;\n",
       "    return;\n",
       "  }\n",
       "\n",
       "  if (value.type === 'REGRESSION') {\n",
       "    display_node_text(\n",
       "        options,\n",
       "        'value: ' + d3.format('r')(value.value) + ` (` +\n",
       "            d3.format('.6')(value.num_examples) + `)`,\n",
       "        output);\n",
       "    return;\n",
       "  }\n",
       "\n",
       "  if (value.type === 'UPLIFT') {\n",
       "    display_node_text(\n",
       "        options,\n",
       "        'effect: ' + d3.format('r')(value.treatment_effect) + ` (` +\n",
       "            d3.format('.6')(value.num_examples) + `)`,\n",
       "        output);\n",
       "    return;\n",
       "  }\n",
       "\n",
       "  display_node_text(options, `Non supported value ${value.type}`, output);\n",
       "}\n",
       "\n",
       "/**\n",
       " * Adds an explanation inside of a node.\n",
       " * @param {!options} options Dictionary of configurations.\n",
       " * @param {!explanation} explanation Explanation to display.\n",
       " * @param {!output} output Output display accumulator.\n",
       " */\n",
       "function display_explanation(options, explanation, output) {\n",
       "  // Margin before the explanation.\n",
       "  output.vertical_offset += 10;\n",
       "\n",
       "  display_node_text(\n",
       "      options, `Non supported explanation ${explanation.type}`, output);\n",
       "}\n",
       "\n",
       "\n",
       "/**\n",
       " * Draw the edges of the tree.\n",
       " * @param {!options} options Dictionary of configurations.\n",
       " * @param {!graph} graph D3 search handle containing the graph.\n",
       " * @param {!tree_struct} tree_struct Structure of the tree (node placement,\n",
       " *     data, etc.).\n",
       " */\n",
       "function display_edges(options, graph, tree_struct) {\n",
       "  // Draw an edge between a parent and a child node with a bezier.\n",
       "  function draw_single_edge(d) {\n",
       "    return 'M' + (d.source.y + options.node_x_size) + ',' + d.source.x + ' C' +\n",
       "        (d.source.y + options.node_x_size + options.edge_rounding) + ',' +\n",
       "        d.source.x + ' ' + (d.target.y - options.edge_rounding) + ',' +\n",
       "        d.target.x + ' ' + d.target.y + ',' + d.target.x;\n",
       "  }\n",
       "\n",
       "  graph.append('g')\n",
       "      .attr('fill', 'none')\n",
       "      .attr('stroke-width', 1.2)\n",
       "      .selectAll('path')\n",
       "      .data(tree_struct.links())\n",
       "      .join('path')\n",
       "      .attr('d', draw_single_edge)\n",
       "      .attr(\n",
       "          'stroke', d => (d.target === d.source.children[0]) ? '#0F0' : '#F00');\n",
       "}\n",
       "\n",
       "display_tree({\"margin\": 10, \"node_x_size\": 160, \"node_y_size\": 28, \"node_x_offset\": 180, \"node_y_offset\": 33, \"font_size\": 10, \"edge_rounding\": 20, \"node_padding\": 2, \"show_plot_bounding_box\": false}, {\"value\": {\"type\": \"REGRESSION\", \"value\": 181668.6875, \"num_examples\": 1028.0, \"standard_deviation\": 78935.57273648832}, \"condition\": {\"type\": \"NUMERICAL_IS_HIGHER_THAN\", \"attribute\": \"GrLivArea\", \"threshold\": 1491.5}, \"children\": [{\"value\": {\"type\": \"REGRESSION\", \"value\": 230952.171875, \"num_examples\": 484.0, \"standard_deviation\": 83786.90649205988}, \"condition\": {\"type\": \"NUMERICAL_IS_HIGHER_THAN\", \"attribute\": \"GarageArea\", \"threshold\": 675.5}, \"children\": [{\"value\": {\"type\": \"REGRESSION\", \"value\": 309292.21875, \"num_examples\": 131.0, \"standard_deviation\": 96175.33418499996}, \"condition\": {\"type\": \"NUMERICAL_IS_HIGHER_THAN\", \"attribute\": \"BsmtFinSF1\", \"threshold\": 1329.0}, \"children\": [{\"value\": {\"type\": \"REGRESSION\", \"value\": 476596.9375, \"num_examples\": 14.0, \"standard_deviation\": 162187.0087478227}, \"condition\": {\"type\": \"NUMERICAL_IS_HIGHER_THAN\", \"attribute\": \"MoSold\", \"threshold\": 6.5}}, {\"value\": {\"type\": \"REGRESSION\", \"value\": 289272.875, \"num_examples\": 117.0, \"standard_deviation\": 58811.77572363909}, \"condition\": {\"type\": \"NUMERICAL_IS_HIGHER_THAN\", \"attribute\": \"OverallQual\", \"threshold\": 7.5}}]}, {\"value\": {\"type\": \"REGRESSION\", \"value\": 201879.796875, \"num_examples\": 353.0, \"standard_deviation\": 55408.95089984342}, \"condition\": {\"type\": \"CATEGORICAL_IS_IN\", \"attribute\": \"Neighborhood\", \"mask\": [\"<OOD>\", \"CollgCr\", \"Somerst\", \"NridgHt\", \"SawyerW\", \"Crawfor\", \"Timber\", \"NoRidge\", \"ClearCr\", \"StoneBr\", \"Blmngtn\"]}, \"children\": [{\"value\": {\"type\": \"REGRESSION\", \"value\": 230175.875, \"num_examples\": 184.0, \"standard_deviation\": 49951.093347337235}, \"condition\": {\"type\": \"NUMERICAL_IS_HIGHER_THAN\", \"attribute\": \"Fireplaces\", \"threshold\": 0.5}}, {\"value\": {\"type\": \"REGRESSION\", \"value\": 171072.21875, \"num_examples\": 169.0, \"standard_deviation\": 43305.779929350596}, \"condition\": {\"type\": \"CATEGORICAL_IS_IN\", \"attribute\": \"GarageFinish\", \"mask\": [\"RFn\", \"Fin\"]}}]}]}, {\"value\": {\"type\": \"REGRESSION\", \"value\": 137820.90625, \"num_examples\": 544.0, \"standard_deviation\": 38011.46218345642}, \"condition\": {\"type\": \"CATEGORICAL_IS_IN\", \"attribute\": \"Neighborhood\", \"mask\": [\"<OOD>\", \"NAmes\", \"CollgCr\", \"Somerst\", \"Gilbert\", \"Sawyer\", \"NridgHt\", \"NWAmes\", \"SawyerW\", \"Crawfor\", \"Mitchel\", \"Timber\", \"ClearCr\", \"StoneBr\", \"Blmngtn\", \"NPkVill\"]}, \"children\": [{\"value\": {\"type\": \"REGRESSION\", \"value\": 153845.765625, \"num_examples\": 371.0, \"standard_deviation\": 29843.906390195487}, \"condition\": {\"type\": \"NUMERICAL_IS_HIGHER_THAN\", \"attribute\": \"YearBuilt\", \"threshold\": 1983.5}, \"children\": [{\"value\": {\"type\": \"REGRESSION\", \"value\": 176344.84375, \"num_examples\": 141.0, \"standard_deviation\": 27967.22881385613}, \"condition\": {\"type\": \"NUMERICAL_IS_HIGHER_THAN\", \"attribute\": \"GrLivArea\", \"threshold\": 1210.5}}, {\"value\": {\"type\": \"REGRESSION\", \"value\": 140052.859375, \"num_examples\": 230.0, \"standard_deviation\": 21368.150312395694}, \"condition\": {\"type\": \"NUMERICAL_IS_HIGHER_THAN\", \"attribute\": \"GrLivArea\", \"threshold\": 982.5}}]}, {\"value\": {\"type\": \"REGRESSION\", \"value\": 103455.421875, \"num_examples\": 173.0, \"standard_deviation\": 30028.26025598444}, \"condition\": {\"type\": \"NUMERICAL_IS_HIGHER_THAN\", \"attribute\": \"GrLivArea\", \"threshold\": 1093.0}, \"children\": [{\"value\": {\"type\": \"REGRESSION\", \"value\": 120155.2890625, \"num_examples\": 86.0, \"standard_deviation\": 26893.901183953185}, \"condition\": {\"type\": \"NUMERICAL_IS_HIGHER_THAN\", \"attribute\": \"BsmtFinSF1\", \"threshold\": 333.5}}, {\"value\": {\"type\": \"REGRESSION\", \"value\": 86947.5078125, \"num_examples\": 87.0, \"standard_deviation\": 23018.879947872454}, \"condition\": {\"type\": \"NUMERICAL_IS_HIGHER_THAN\", \"attribute\": \"OverallQual\", \"threshold\": 4.5}}]}]}]}, \"#tree_plot_ae009ca4eb7742fc91b89cb0749ce984\")\n",
       "</script>\n"
      ],
      "text/plain": [
       "<IPython.core.display.HTML object>"
      ]
     },
     "execution_count": 23,
     "metadata": {},
     "output_type": "execute_result"
    }
   ],
   "source": [
    "tfdf.model_plotter.plot_model_in_colab(rf, tree_idx = 0, max_depth = 3)"
   ]
  },
  {
   "cell_type": "code",
   "execution_count": 25,
   "id": "b2b95596-a30c-4f54-a0bb-7b093b2309a1",
   "metadata": {},
   "outputs": [
    {
     "data": {
      "image/png": "[encoded data removed]",
      "text/plain": [
       "<Figure size 640x480 with 1 Axes>"
      ]
     },
     "metadata": {},
     "output_type": "display_data"
    }
   ],
   "source": [
    "logs = rf.make_inspector().training_logs()\n",
    "\n",
    "plt.plot([log.num_trees for log in logs],\n",
    "         [log.evaluation.rmse for log in logs])\n",
    "plt.xlabel('Number of trees')\n",
    "plt.ylabel('RMSE (out-of-bag)')\n",
    "plt.show()"
   ]
  },
  {
   "cell_type": "code",
   "execution_count": 26,
   "id": "aeaa3f9c-5fb3-42c1-b7c8-680ecd68b8b0",
   "metadata": {},
   "outputs": [
    {
     "data": {
      "text/plain": [
       "Evaluation(num_examples=1028, accuracy=None, loss=None, rmse=29301.024772699937, ndcg=None, aucs=None, auuc=None, qini=None)"
      ]
     },
     "execution_count": 26,
     "metadata": {},
     "output_type": "execute_result"
    }
   ],
   "source": [
    "inspector = rf.make_inspector()\n",
    "inspector.evaluation()"
   ]
  },
  {
   "cell_type": "code",
   "execution_count": 30,
   "id": "2b836de7-1bf1-45ee-8307-337dd6d90593",
   "metadata": {},
   "outputs": [
    {
     "name": "stdout",
     "output_type": "stream",
     "text": [
      "1/1 [==============================] - 1s 676ms/step - loss: 0.0000e+00 - mse: 846030528.0000\n",
      "loss: 0.0000\n",
      "mse: 846030528.0000\n"
     ]
    }
   ],
   "source": [
    "evaluation = rf.evaluate(x = valid_ds,\n",
    "                         return_dict = True)\n",
    "\n",
    "for name, value in evaluation.items():\n",
    "    print(f'{name}: {value:.4f}')"
   ]
  },
  {
   "cell_type": "code",
   "execution_count": 32,
   "id": "610a41ab-2492-45b3-accd-7ae839ffc501",
   "metadata": {},
   "outputs": [
    {
     "name": "stdout",
     "output_type": "stream",
     "text": [
      "Available variable importances:\n",
      "\t NUM_NODES\n",
      "\t SUM_SCORE\n",
      "\t INV_MEAN_MIN_DEPTH\n",
      "\t NUM_AS_ROOT\n"
     ]
    }
   ],
   "source": [
    "print(f'Available variable importances:')\n",
    "for importance in inspector.variable_importances().keys():\n",
    "    print('\\t', importance)\n",
    "    \n",
    "# RF 모델에서 생성된 평가 변수들로, 각 변수에 어떤 데이터 특성값들이 영향을 끼쳤는지 아래 코드에서 확인할 수 있다."
   ]
  },
  {
   "cell_type": "code",
   "execution_count": 40,
   "id": "cafaed03-addb-495c-ae85-e031f40f12e5",
   "metadata": {},
   "outputs": [
    {
     "data": {
      "text/plain": [
       "[(\"OverallQual\" (1; #62), 112.0),\n",
       " (\"ExterQual\" (4; #22), 52.0),\n",
       " (\"GarageCars\" (1; #32), 38.0),\n",
       " (\"Neighborhood\" (4; #59), 36.0),\n",
       " (\"GrLivArea\" (1; #38), 20.0),\n",
       " (\"KitchenQual\" (4; #44), 13.0),\n",
       " (\"GarageArea\" (1; #31), 11.0),\n",
       " (\"YearBuilt\" (1; #76), 8.0),\n",
       " (\"BsmtQual\" (4; #14), 5.0),\n",
       " (\"1stFlrSF\" (1; #0), 1.0)]"
      ]
     },
     "execution_count": 40,
     "metadata": {},
     "output_type": "execute_result"
    }
   ],
   "source": [
    "inspector.variable_importances()['NUM_AS_ROOT'][:10]"
   ]
  },
  {
   "cell_type": "code",
   "execution_count": 42,
   "id": "de5c0c51-8cf8-4909-8c87-4d74817416a0",
   "metadata": {},
   "outputs": [
    {
     "name": "stdout",
     "output_type": "stream",
     "text": [
      "NUM_NODES\n",
      "(\"Neighborhood\" (4; #59), 4185.0)\n",
      "(\"GrLivArea\" (1; #38), 3716.0)\n",
      "(\"TotalBsmtSF\" (1; #73), 2641.0)\n",
      "(\"GarageArea\" (1; #31), 2408.0)\n",
      "(\"LotArea\" (1; #47), 2204.0)\n",
      "(\"BsmtFinSF1\" (1; #8), 2017.0)\n",
      "(\"1stFlrSF\" (1; #0), 1995.0)\n",
      "(\"BsmtUnfSF\" (1; #15), 1695.0)\n",
      "(\"BsmtFinType1\" (4; #10), 1561.0)\n",
      "(\"Exterior2nd\" (4; #24), 1544.0)\n",
      "--------------------------------------------------\n",
      "SUM_SCORE\n",
      "(\"OverallQual\" (1; #62), 451118824945462.2)\n",
      "(\"Neighborhood\" (4; #59), 232588963185951.75)\n",
      "(\"GrLivArea\" (1; #38), 203178047521516.56)\n",
      "(\"ExterQual\" (4; #22), 144744796148392.75)\n",
      "(\"GarageCars\" (1; #32), 139417738313132.25)\n",
      "(\"GarageArea\" (1; #31), 97767403572273.47)\n",
      "(\"TotalBsmtSF\" (1; #73), 86262754453354.81)\n",
      "(\"1stFlrSF\" (1; #0), 58925997815382.195)\n",
      "(\"KitchenQual\" (4; #44), 45813872836554.5)\n",
      "(\"BsmtQual\" (4; #14), 34137303986181.25)\n",
      "--------------------------------------------------\n",
      "INV_MEAN_MIN_DEPTH\n",
      "(\"OverallQual\" (1; #62), 0.22705555646666886)\n",
      "(\"Neighborhood\" (4; #59), 0.2181471301395116)\n",
      "(\"GrLivArea\" (1; #38), 0.19806004919355655)\n",
      "(\"TotalBsmtSF\" (1; #73), 0.1381909179728793)\n",
      "(\"GarageArea\" (1; #31), 0.13017290069753953)\n",
      "(\"GarageCars\" (1; #32), 0.12925650178469175)\n",
      "(\"ExterQual\" (4; #22), 0.12671085463164763)\n",
      "(\"1stFlrSF\" (1; #0), 0.1258854020098923)\n",
      "(\"BsmtFinSF1\" (1; #8), 0.1144116244881006)\n",
      "(\"YearBuilt\" (1; #76), 0.11190668369468118)\n",
      "--------------------------------------------------\n",
      "NUM_AS_ROOT\n",
      "(\"OverallQual\" (1; #62), 112.0)\n",
      "(\"ExterQual\" (4; #22), 52.0)\n",
      "(\"GarageCars\" (1; #32), 38.0)\n",
      "(\"Neighborhood\" (4; #59), 36.0)\n",
      "(\"GrLivArea\" (1; #38), 20.0)\n",
      "(\"KitchenQual\" (4; #44), 13.0)\n",
      "(\"GarageArea\" (1; #31), 11.0)\n",
      "(\"YearBuilt\" (1; #76), 8.0)\n",
      "(\"BsmtQual\" (4; #14), 5.0)\n",
      "(\"1stFlrSF\" (1; #0), 1.0)\n",
      "--------------------------------------------------\n"
     ]
    }
   ],
   "source": [
    "for (key, val) in inspector.variable_importances().items():\n",
    "    print(key)\n",
    "    _ = [print(x) for x in val[:10]]\n",
    "    print('-' * 50)"
   ]
  },
  {
   "cell_type": "code",
   "execution_count": 44,
   "id": "a394dfa9-193e-4cf2-9745-e344cec07c00",
   "metadata": {},
   "outputs": [
    {
     "data": {
      "image/png": "[encoded data removed]",
      "text/plain": [
       "<Figure size 1200x400 with 1 Axes>"
      ]
     },
     "metadata": {},
     "output_type": "display_data"
    }
   ],
   "source": [
    "plt.figure(figsize = (12, 4))\n",
    "\n",
    "variable_importance_metric = 'NUM_AS_ROOT'\n",
    "variable_importances = inspector.variable_importances()[variable_importance_metric]\n",
    "\n",
    "feature_names = [vi[0].name for vi in variable_importances]\n",
    "feature_importances = [vi[1] for vi in variable_importances]\n",
    "feature_ranks = range(len(feature_names))\n",
    "\n",
    "bar = plt.barh(feature_ranks,\n",
    "               feature_importances,\n",
    "               label = [str(x) for x in feature_ranks])\n",
    "\n",
    "plt.yticks(feature_ranks, feature_names)\n",
    "plt.gca().invert_yaxis()\n",
    "\n",
    "# what is gca?? get the current axis\n",
    "\n",
    "for importance, patch in zip(feature_importances, bar.patches):\n",
    "    plt.text(patch.get_x() + patch.get_width(), patch.get_y(), f'{importance:.4f}', va = 'top')\n",
    "    \n",
    "plt.xlabel(variable_importance_metric)\n",
    "plt.title('NUM AS ROOT of the class 1 vs the others')\n",
    "plt.tight_layout()\n",
    "plt.show()"
   ]
  },
  {
   "cell_type": "markdown",
   "id": "ab7b9020-3989-494d-98d3-5a9900bb685c",
   "metadata": {},
   "source": [
    "### test 데이터에 적용"
   ]
  },
  {
   "cell_type": "code",
   "execution_count": 46,
   "id": "f03a060b-cd6d-4316-8ee5-00243c292e70",
   "metadata": {},
   "outputs": [
    {
     "name": "stdout",
     "output_type": "stream",
     "text": [
      "2/2 [==============================] - 1s 22ms/step\n"
     ]
    }
   ],
   "source": [
    "ids = test_df.pop('Id')\n",
    "\n",
    "test_ds = tfdf.keras.pd_dataframe_to_tf_dataset(test_df,\n",
    "                                                task =tfdf.keras.Task.REGRESSION)\n",
    "\n",
    "preds = rf.predict(test_ds)\n",
    "output = pd.DataFrame({'Id': ids,\n",
    "                       'SalePrice': preds.squeeze()})"
   ]
  },
  {
   "cell_type": "code",
   "execution_count": 47,
   "id": "bb925880-c9f4-4ddd-ae88-670415bd73f2",
   "metadata": {},
   "outputs": [
    {
     "data": {
      "text/html": [
       "<div>\n",
       "<style scoped>\n",
       "    .dataframe tbody tr th:only-of-type {\n",
       "        vertical-align: middle;\n",
       "    }\n",
       "\n",
       "    .dataframe tbody tr th {\n",
       "        vertical-align: top;\n",
       "    }\n",
       "\n",
       "    .dataframe thead th {\n",
       "        text-align: right;\n",
       "    }\n",
       "</style>\n",
       "<table border=\"1\" class=\"dataframe\">\n",
       "  <thead>\n",
       "    <tr style=\"text-align: right;\">\n",
       "      <th></th>\n",
       "      <th>Id</th>\n",
       "      <th>SalePrice</th>\n",
       "    </tr>\n",
       "  </thead>\n",
       "  <tbody>\n",
       "    <tr>\n",
       "      <th>0</th>\n",
       "      <td>1461</td>\n",
       "      <td>127136.992188</td>\n",
       "    </tr>\n",
       "    <tr>\n",
       "      <th>1</th>\n",
       "      <td>1462</td>\n",
       "      <td>153430.531250</td>\n",
       "    </tr>\n",
       "    <tr>\n",
       "      <th>2</th>\n",
       "      <td>1463</td>\n",
       "      <td>178599.031250</td>\n",
       "    </tr>\n",
       "    <tr>\n",
       "      <th>3</th>\n",
       "      <td>1464</td>\n",
       "      <td>185029.296875</td>\n",
       "    </tr>\n",
       "    <tr>\n",
       "      <th>4</th>\n",
       "      <td>1465</td>\n",
       "      <td>197979.968750</td>\n",
       "    </tr>\n",
       "    <tr>\n",
       "      <th>...</th>\n",
       "      <td>...</td>\n",
       "      <td>...</td>\n",
       "    </tr>\n",
       "    <tr>\n",
       "      <th>1454</th>\n",
       "      <td>2915</td>\n",
       "      <td>88253.445312</td>\n",
       "    </tr>\n",
       "    <tr>\n",
       "      <th>1455</th>\n",
       "      <td>2916</td>\n",
       "      <td>88919.023438</td>\n",
       "    </tr>\n",
       "    <tr>\n",
       "      <th>1456</th>\n",
       "      <td>2917</td>\n",
       "      <td>155820.015625</td>\n",
       "    </tr>\n",
       "    <tr>\n",
       "      <th>1457</th>\n",
       "      <td>2918</td>\n",
       "      <td>114885.195312</td>\n",
       "    </tr>\n",
       "    <tr>\n",
       "      <th>1458</th>\n",
       "      <td>2919</td>\n",
       "      <td>201938.875000</td>\n",
       "    </tr>\n",
       "  </tbody>\n",
       "</table>\n",
       "<p>1459 rows × 2 columns</p>\n",
       "</div>"
      ],
      "text/plain": [
       "        Id      SalePrice\n",
       "0     1461  127136.992188\n",
       "1     1462  153430.531250\n",
       "2     1463  178599.031250\n",
       "3     1464  185029.296875\n",
       "4     1465  197979.968750\n",
       "...    ...            ...\n",
       "1454  2915   88253.445312\n",
       "1455  2916   88919.023438\n",
       "1456  2917  155820.015625\n",
       "1457  2918  114885.195312\n",
       "1458  2919  201938.875000\n",
       "\n",
       "[1459 rows x 2 columns]"
      ]
     },
     "execution_count": 47,
     "metadata": {},
     "output_type": "execute_result"
    }
   ],
   "source": [
    "output"
   ]
  }
 ],
 "metadata": {
  "kernelspec": {
   "display_name": "Python 3 (ipykernel)",
   "language": "python",
   "name": "python3"
  },
  "language_info": {
   "codemirror_mode": {
    "name": "ipython",
    "version": 3
   },
   "file_extension": ".py",
   "mimetype": "text/x-python",
   "name": "python",
   "nbconvert_exporter": "python",
   "pygments_lexer": "ipython3",
   "version": "3.9.16"
  }
 },
 "nbformat": 4,
 "nbformat_minor": 5
}
